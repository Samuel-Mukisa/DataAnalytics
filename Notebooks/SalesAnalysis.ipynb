{
 "cells": [
  {
   "cell_type": "markdown",
   "metadata": {},
   "source": [
    "###  Import necessary libraries\n"
   ]
  },
  {
   "cell_type": "code",
   "execution_count": null,
   "metadata": {},
   "outputs": [],
   "source": [
    "import pandas as pd\n",
    "import os"
   ]
  },
  {
   "cell_type": "markdown",
   "metadata": {},
   "source": [
    "**Task #1:Merge the 12 months of sales data into a single CSV file**"
   ]
  },
  {
   "cell_type": "code",
   "execution_count": 41,
   "metadata": {},
   "outputs": [],
   "source": [
    "df = pd.read_csv(\"/home/owekitiibwa/Desktop/dataAnalysis/Pandas-Data-Science-Tasks/SalesAnalysis/Sales_Data/Sales_April_2019.csv\") \n",
    "\n",
    "files = [file for file in os.listdir('/home/owekitiibwa/Desktop/dataAnalysis/Pandas-Data-Science-Tasks/SalesAnalysis/Sales_Data/')]\n",
    "all_months_data = pd.DataFrame()\n",
    "\n",
    "for file in files:\n",
    "    df = pd.read_csv(\"/home/owekitiibwa/Desktop/dataAnalysis/Pandas-Data-Science-Tasks/SalesAnalysis/Sales_Data/\"+file)\n",
    "    all_months_data = pd.concat([all_months_data,df]) \n",
    "all_months_data.to_csv(\"all_data.csv\",index=False)\n",
    "\n"
   ]
  },
  {
   "cell_type": "markdown",
   "metadata": {},
   "source": [
    " **Read in updated dataframe**\n"
   ]
  },
  {
   "cell_type": "code",
   "execution_count": 42,
   "metadata": {},
   "outputs": [
    {
     "data": {
      "text/html": [
       "<div>\n",
       "<style scoped>\n",
       "    .dataframe tbody tr th:only-of-type {\n",
       "        vertical-align: middle;\n",
       "    }\n",
       "\n",
       "    .dataframe tbody tr th {\n",
       "        vertical-align: top;\n",
       "    }\n",
       "\n",
       "    .dataframe thead th {\n",
       "        text-align: right;\n",
       "    }\n",
       "</style>\n",
       "<table border=\"1\" class=\"dataframe\">\n",
       "  <thead>\n",
       "    <tr style=\"text-align: right;\">\n",
       "      <th></th>\n",
       "      <th>Order ID</th>\n",
       "      <th>Product</th>\n",
       "      <th>Quantity Ordered</th>\n",
       "      <th>Price Each</th>\n",
       "      <th>Order Date</th>\n",
       "      <th>Purchase Address</th>\n",
       "    </tr>\n",
       "  </thead>\n",
       "  <tbody>\n",
       "    <tr>\n",
       "      <th>0</th>\n",
       "      <td>194095</td>\n",
       "      <td>Wired Headphones</td>\n",
       "      <td>1</td>\n",
       "      <td>11.99</td>\n",
       "      <td>05/16/19 17:14</td>\n",
       "      <td>669 2nd St, New York City, NY 10001</td>\n",
       "    </tr>\n",
       "    <tr>\n",
       "      <th>1</th>\n",
       "      <td>194096</td>\n",
       "      <td>AA Batteries (4-pack)</td>\n",
       "      <td>1</td>\n",
       "      <td>3.84</td>\n",
       "      <td>05/19/19 14:43</td>\n",
       "      <td>844 Walnut St, Dallas, TX 75001</td>\n",
       "    </tr>\n",
       "    <tr>\n",
       "      <th>2</th>\n",
       "      <td>194097</td>\n",
       "      <td>27in FHD Monitor</td>\n",
       "      <td>1</td>\n",
       "      <td>149.99</td>\n",
       "      <td>05/24/19 11:36</td>\n",
       "      <td>164 Madison St, New York City, NY 10001</td>\n",
       "    </tr>\n",
       "    <tr>\n",
       "      <th>3</th>\n",
       "      <td>194098</td>\n",
       "      <td>Wired Headphones</td>\n",
       "      <td>1</td>\n",
       "      <td>11.99</td>\n",
       "      <td>05/02/19 20:40</td>\n",
       "      <td>622 Meadow St, Dallas, TX 75001</td>\n",
       "    </tr>\n",
       "    <tr>\n",
       "      <th>4</th>\n",
       "      <td>194099</td>\n",
       "      <td>AAA Batteries (4-pack)</td>\n",
       "      <td>2</td>\n",
       "      <td>2.99</td>\n",
       "      <td>05/11/19 22:55</td>\n",
       "      <td>17 Church St, Seattle, WA 98101</td>\n",
       "    </tr>\n",
       "  </tbody>\n",
       "</table>\n",
       "</div>"
      ],
      "text/plain": [
       "  Order ID                 Product Quantity Ordered Price Each  \\\n",
       "0   194095        Wired Headphones                1      11.99   \n",
       "1   194096   AA Batteries (4-pack)                1       3.84   \n",
       "2   194097        27in FHD Monitor                1     149.99   \n",
       "3   194098        Wired Headphones                1      11.99   \n",
       "4   194099  AAA Batteries (4-pack)                2       2.99   \n",
       "\n",
       "       Order Date                         Purchase Address  \n",
       "0  05/16/19 17:14      669 2nd St, New York City, NY 10001  \n",
       "1  05/19/19 14:43          844 Walnut St, Dallas, TX 75001  \n",
       "2  05/24/19 11:36  164 Madison St, New York City, NY 10001  \n",
       "3  05/02/19 20:40          622 Meadow St, Dallas, TX 75001  \n",
       "4  05/11/19 22:55          17 Church St, Seattle, WA 98101  "
      ]
     },
     "execution_count": 42,
     "metadata": {},
     "output_type": "execute_result"
    }
   ],
   "source": [
    "all_data = pd.read_csv(\"/home/owekitiibwa/Desktop/dataAnalysis/Pandas-Data-Science-Tasks/SalesAnalysis/Sales_Data/all_data.csv\")\n",
    "all_data.head()"
   ]
  },
  {
   "cell_type": "markdown",
   "metadata": {},
   "source": [
    "####  Question 1: What was the best month for Sales ? How much was earned that month ?"
   ]
  },
  {
   "cell_type": "markdown",
   "metadata": {},
   "source": [
    "**Cleaning Up the data**"
   ]
  },
  {
   "cell_type": "markdown",
   "metadata": {},
   "source": [
    "**Drop rows of NaN**"
   ]
  },
  {
   "cell_type": "code",
   "execution_count": 43,
   "metadata": {},
   "outputs": [
    {
     "data": {
      "text/html": [
       "<div>\n",
       "<style scoped>\n",
       "    .dataframe tbody tr th:only-of-type {\n",
       "        vertical-align: middle;\n",
       "    }\n",
       "\n",
       "    .dataframe tbody tr th {\n",
       "        vertical-align: top;\n",
       "    }\n",
       "\n",
       "    .dataframe thead th {\n",
       "        text-align: right;\n",
       "    }\n",
       "</style>\n",
       "<table border=\"1\" class=\"dataframe\">\n",
       "  <thead>\n",
       "    <tr style=\"text-align: right;\">\n",
       "      <th></th>\n",
       "      <th>Order ID</th>\n",
       "      <th>Product</th>\n",
       "      <th>Quantity Ordered</th>\n",
       "      <th>Price Each</th>\n",
       "      <th>Order Date</th>\n",
       "      <th>Purchase Address</th>\n",
       "    </tr>\n",
       "  </thead>\n",
       "  <tbody>\n",
       "    <tr>\n",
       "      <th>0</th>\n",
       "      <td>194095</td>\n",
       "      <td>Wired Headphones</td>\n",
       "      <td>1</td>\n",
       "      <td>11.99</td>\n",
       "      <td>05/16/19 17:14</td>\n",
       "      <td>669 2nd St, New York City, NY 10001</td>\n",
       "    </tr>\n",
       "    <tr>\n",
       "      <th>1</th>\n",
       "      <td>194096</td>\n",
       "      <td>AA Batteries (4-pack)</td>\n",
       "      <td>1</td>\n",
       "      <td>3.84</td>\n",
       "      <td>05/19/19 14:43</td>\n",
       "      <td>844 Walnut St, Dallas, TX 75001</td>\n",
       "    </tr>\n",
       "    <tr>\n",
       "      <th>2</th>\n",
       "      <td>194097</td>\n",
       "      <td>27in FHD Monitor</td>\n",
       "      <td>1</td>\n",
       "      <td>149.99</td>\n",
       "      <td>05/24/19 11:36</td>\n",
       "      <td>164 Madison St, New York City, NY 10001</td>\n",
       "    </tr>\n",
       "    <tr>\n",
       "      <th>3</th>\n",
       "      <td>194098</td>\n",
       "      <td>Wired Headphones</td>\n",
       "      <td>1</td>\n",
       "      <td>11.99</td>\n",
       "      <td>05/02/19 20:40</td>\n",
       "      <td>622 Meadow St, Dallas, TX 75001</td>\n",
       "    </tr>\n",
       "    <tr>\n",
       "      <th>4</th>\n",
       "      <td>194099</td>\n",
       "      <td>AAA Batteries (4-pack)</td>\n",
       "      <td>2</td>\n",
       "      <td>2.99</td>\n",
       "      <td>05/11/19 22:55</td>\n",
       "      <td>17 Church St, Seattle, WA 98101</td>\n",
       "    </tr>\n",
       "  </tbody>\n",
       "</table>\n",
       "</div>"
      ],
      "text/plain": [
       "  Order ID                 Product Quantity Ordered Price Each  \\\n",
       "0   194095        Wired Headphones                1      11.99   \n",
       "1   194096   AA Batteries (4-pack)                1       3.84   \n",
       "2   194097        27in FHD Monitor                1     149.99   \n",
       "3   194098        Wired Headphones                1      11.99   \n",
       "4   194099  AAA Batteries (4-pack)                2       2.99   \n",
       "\n",
       "       Order Date                         Purchase Address  \n",
       "0  05/16/19 17:14      669 2nd St, New York City, NY 10001  \n",
       "1  05/19/19 14:43          844 Walnut St, Dallas, TX 75001  \n",
       "2  05/24/19 11:36  164 Madison St, New York City, NY 10001  \n",
       "3  05/02/19 20:40          622 Meadow St, Dallas, TX 75001  \n",
       "4  05/11/19 22:55          17 Church St, Seattle, WA 98101  "
      ]
     },
     "execution_count": 43,
     "metadata": {},
     "output_type": "execute_result"
    }
   ],
   "source": [
    "nan_df = all_data[all_data.isna().any(axis = 1)]\n",
    "nan_df.head()\n",
    "\n",
    "all_data = all_data.dropna(how=\"all\")\n",
    "all_data.head()\n"
   ]
  },
  {
   "cell_type": "markdown",
   "metadata": {},
   "source": [
    "**Find 'Or' and delete it**"
   ]
  },
  {
   "cell_type": "code",
   "execution_count": 44,
   "metadata": {},
   "outputs": [
    {
     "data": {
      "text/html": [
       "<div>\n",
       "<style scoped>\n",
       "    .dataframe tbody tr th:only-of-type {\n",
       "        vertical-align: middle;\n",
       "    }\n",
       "\n",
       "    .dataframe tbody tr th {\n",
       "        vertical-align: top;\n",
       "    }\n",
       "\n",
       "    .dataframe thead th {\n",
       "        text-align: right;\n",
       "    }\n",
       "</style>\n",
       "<table border=\"1\" class=\"dataframe\">\n",
       "  <thead>\n",
       "    <tr style=\"text-align: right;\">\n",
       "      <th></th>\n",
       "      <th>Order ID</th>\n",
       "      <th>Product</th>\n",
       "      <th>Quantity Ordered</th>\n",
       "      <th>Price Each</th>\n",
       "      <th>Order Date</th>\n",
       "      <th>Purchase Address</th>\n",
       "    </tr>\n",
       "  </thead>\n",
       "  <tbody>\n",
       "    <tr>\n",
       "      <th>0</th>\n",
       "      <td>194095</td>\n",
       "      <td>Wired Headphones</td>\n",
       "      <td>1</td>\n",
       "      <td>11.99</td>\n",
       "      <td>05/16/19 17:14</td>\n",
       "      <td>669 2nd St, New York City, NY 10001</td>\n",
       "    </tr>\n",
       "    <tr>\n",
       "      <th>1</th>\n",
       "      <td>194096</td>\n",
       "      <td>AA Batteries (4-pack)</td>\n",
       "      <td>1</td>\n",
       "      <td>3.84</td>\n",
       "      <td>05/19/19 14:43</td>\n",
       "      <td>844 Walnut St, Dallas, TX 75001</td>\n",
       "    </tr>\n",
       "    <tr>\n",
       "      <th>2</th>\n",
       "      <td>194097</td>\n",
       "      <td>27in FHD Monitor</td>\n",
       "      <td>1</td>\n",
       "      <td>149.99</td>\n",
       "      <td>05/24/19 11:36</td>\n",
       "      <td>164 Madison St, New York City, NY 10001</td>\n",
       "    </tr>\n",
       "    <tr>\n",
       "      <th>3</th>\n",
       "      <td>194098</td>\n",
       "      <td>Wired Headphones</td>\n",
       "      <td>1</td>\n",
       "      <td>11.99</td>\n",
       "      <td>05/02/19 20:40</td>\n",
       "      <td>622 Meadow St, Dallas, TX 75001</td>\n",
       "    </tr>\n",
       "    <tr>\n",
       "      <th>4</th>\n",
       "      <td>194099</td>\n",
       "      <td>AAA Batteries (4-pack)</td>\n",
       "      <td>2</td>\n",
       "      <td>2.99</td>\n",
       "      <td>05/11/19 22:55</td>\n",
       "      <td>17 Church St, Seattle, WA 98101</td>\n",
       "    </tr>\n",
       "  </tbody>\n",
       "</table>\n",
       "</div>"
      ],
      "text/plain": [
       "  Order ID                 Product Quantity Ordered Price Each  \\\n",
       "0   194095        Wired Headphones                1      11.99   \n",
       "1   194096   AA Batteries (4-pack)                1       3.84   \n",
       "2   194097        27in FHD Monitor                1     149.99   \n",
       "3   194098        Wired Headphones                1      11.99   \n",
       "4   194099  AAA Batteries (4-pack)                2       2.99   \n",
       "\n",
       "       Order Date                         Purchase Address  \n",
       "0  05/16/19 17:14      669 2nd St, New York City, NY 10001  \n",
       "1  05/19/19 14:43          844 Walnut St, Dallas, TX 75001  \n",
       "2  05/24/19 11:36  164 Madison St, New York City, NY 10001  \n",
       "3  05/02/19 20:40          622 Meadow St, Dallas, TX 75001  \n",
       "4  05/11/19 22:55          17 Church St, Seattle, WA 98101  "
      ]
     },
     "execution_count": 44,
     "metadata": {},
     "output_type": "execute_result"
    }
   ],
   "source": [
    "all_data = all_data[all_data['Order Date'].str[0:2] != 'Or']\n",
    "all_data.head()"
   ]
  },
  {
   "cell_type": "markdown",
   "metadata": {},
   "source": [
    "**Augment data with additional colums**"
   ]
  },
  {
   "cell_type": "code",
   "execution_count": 45,
   "metadata": {},
   "outputs": [
    {
     "data": {
      "text/html": [
       "<div>\n",
       "<style scoped>\n",
       "    .dataframe tbody tr th:only-of-type {\n",
       "        vertical-align: middle;\n",
       "    }\n",
       "\n",
       "    .dataframe tbody tr th {\n",
       "        vertical-align: top;\n",
       "    }\n",
       "\n",
       "    .dataframe thead th {\n",
       "        text-align: right;\n",
       "    }\n",
       "</style>\n",
       "<table border=\"1\" class=\"dataframe\">\n",
       "  <thead>\n",
       "    <tr style=\"text-align: right;\">\n",
       "      <th></th>\n",
       "      <th>Order ID</th>\n",
       "      <th>Product</th>\n",
       "      <th>Quantity Ordered</th>\n",
       "      <th>Price Each</th>\n",
       "      <th>Order Date</th>\n",
       "      <th>Purchase Address</th>\n",
       "      <th>Month</th>\n",
       "    </tr>\n",
       "  </thead>\n",
       "  <tbody>\n",
       "    <tr>\n",
       "      <th>0</th>\n",
       "      <td>194095</td>\n",
       "      <td>Wired Headphones</td>\n",
       "      <td>1</td>\n",
       "      <td>11.99</td>\n",
       "      <td>05/16/19 17:14</td>\n",
       "      <td>669 2nd St, New York City, NY 10001</td>\n",
       "      <td>5</td>\n",
       "    </tr>\n",
       "    <tr>\n",
       "      <th>1</th>\n",
       "      <td>194096</td>\n",
       "      <td>AA Batteries (4-pack)</td>\n",
       "      <td>1</td>\n",
       "      <td>3.84</td>\n",
       "      <td>05/19/19 14:43</td>\n",
       "      <td>844 Walnut St, Dallas, TX 75001</td>\n",
       "      <td>5</td>\n",
       "    </tr>\n",
       "    <tr>\n",
       "      <th>2</th>\n",
       "      <td>194097</td>\n",
       "      <td>27in FHD Monitor</td>\n",
       "      <td>1</td>\n",
       "      <td>149.99</td>\n",
       "      <td>05/24/19 11:36</td>\n",
       "      <td>164 Madison St, New York City, NY 10001</td>\n",
       "      <td>5</td>\n",
       "    </tr>\n",
       "    <tr>\n",
       "      <th>3</th>\n",
       "      <td>194098</td>\n",
       "      <td>Wired Headphones</td>\n",
       "      <td>1</td>\n",
       "      <td>11.99</td>\n",
       "      <td>05/02/19 20:40</td>\n",
       "      <td>622 Meadow St, Dallas, TX 75001</td>\n",
       "      <td>5</td>\n",
       "    </tr>\n",
       "    <tr>\n",
       "      <th>4</th>\n",
       "      <td>194099</td>\n",
       "      <td>AAA Batteries (4-pack)</td>\n",
       "      <td>2</td>\n",
       "      <td>2.99</td>\n",
       "      <td>05/11/19 22:55</td>\n",
       "      <td>17 Church St, Seattle, WA 98101</td>\n",
       "      <td>5</td>\n",
       "    </tr>\n",
       "  </tbody>\n",
       "</table>\n",
       "</div>"
      ],
      "text/plain": [
       "  Order ID                 Product Quantity Ordered Price Each  \\\n",
       "0   194095        Wired Headphones                1      11.99   \n",
       "1   194096   AA Batteries (4-pack)                1       3.84   \n",
       "2   194097        27in FHD Monitor                1     149.99   \n",
       "3   194098        Wired Headphones                1      11.99   \n",
       "4   194099  AAA Batteries (4-pack)                2       2.99   \n",
       "\n",
       "       Order Date                         Purchase Address  Month  \n",
       "0  05/16/19 17:14      669 2nd St, New York City, NY 10001      5  \n",
       "1  05/19/19 14:43          844 Walnut St, Dallas, TX 75001      5  \n",
       "2  05/24/19 11:36  164 Madison St, New York City, NY 10001      5  \n",
       "3  05/02/19 20:40          622 Meadow St, Dallas, TX 75001      5  \n",
       "4  05/11/19 22:55          17 Church St, Seattle, WA 98101      5  "
      ]
     },
     "execution_count": 45,
     "metadata": {},
     "output_type": "execute_result"
    }
   ],
   "source": [
    "all_data['Month'] = all_data['Order Date'].str[0:2]\n",
    "all_data['Month'] = all_data['Month'].astype('int32')\n",
    "all_data.head()"
   ]
  },
  {
   "cell_type": "markdown",
   "metadata": {},
   "source": [
    "**Add column for Sales**"
   ]
  },
  {
   "cell_type": "markdown",
   "metadata": {},
   "source": [
    "Convert columns to the correct type"
   ]
  },
  {
   "cell_type": "code",
   "execution_count": 46,
   "metadata": {},
   "outputs": [
    {
     "data": {
      "text/html": [
       "<div>\n",
       "<style scoped>\n",
       "    .dataframe tbody tr th:only-of-type {\n",
       "        vertical-align: middle;\n",
       "    }\n",
       "\n",
       "    .dataframe tbody tr th {\n",
       "        vertical-align: top;\n",
       "    }\n",
       "\n",
       "    .dataframe thead th {\n",
       "        text-align: right;\n",
       "    }\n",
       "</style>\n",
       "<table border=\"1\" class=\"dataframe\">\n",
       "  <thead>\n",
       "    <tr style=\"text-align: right;\">\n",
       "      <th></th>\n",
       "      <th>Order ID</th>\n",
       "      <th>Product</th>\n",
       "      <th>Quantity Ordered</th>\n",
       "      <th>Price Each</th>\n",
       "      <th>Order Date</th>\n",
       "      <th>Purchase Address</th>\n",
       "      <th>Month</th>\n",
       "    </tr>\n",
       "  </thead>\n",
       "  <tbody>\n",
       "    <tr>\n",
       "      <th>0</th>\n",
       "      <td>194095</td>\n",
       "      <td>Wired Headphones</td>\n",
       "      <td>1</td>\n",
       "      <td>11.99</td>\n",
       "      <td>05/16/19 17:14</td>\n",
       "      <td>669 2nd St, New York City, NY 10001</td>\n",
       "      <td>5</td>\n",
       "    </tr>\n",
       "    <tr>\n",
       "      <th>1</th>\n",
       "      <td>194096</td>\n",
       "      <td>AA Batteries (4-pack)</td>\n",
       "      <td>1</td>\n",
       "      <td>3.84</td>\n",
       "      <td>05/19/19 14:43</td>\n",
       "      <td>844 Walnut St, Dallas, TX 75001</td>\n",
       "      <td>5</td>\n",
       "    </tr>\n",
       "    <tr>\n",
       "      <th>2</th>\n",
       "      <td>194097</td>\n",
       "      <td>27in FHD Monitor</td>\n",
       "      <td>1</td>\n",
       "      <td>149.99</td>\n",
       "      <td>05/24/19 11:36</td>\n",
       "      <td>164 Madison St, New York City, NY 10001</td>\n",
       "      <td>5</td>\n",
       "    </tr>\n",
       "    <tr>\n",
       "      <th>3</th>\n",
       "      <td>194098</td>\n",
       "      <td>Wired Headphones</td>\n",
       "      <td>1</td>\n",
       "      <td>11.99</td>\n",
       "      <td>05/02/19 20:40</td>\n",
       "      <td>622 Meadow St, Dallas, TX 75001</td>\n",
       "      <td>5</td>\n",
       "    </tr>\n",
       "    <tr>\n",
       "      <th>4</th>\n",
       "      <td>194099</td>\n",
       "      <td>AAA Batteries (4-pack)</td>\n",
       "      <td>2</td>\n",
       "      <td>2.99</td>\n",
       "      <td>05/11/19 22:55</td>\n",
       "      <td>17 Church St, Seattle, WA 98101</td>\n",
       "      <td>5</td>\n",
       "    </tr>\n",
       "  </tbody>\n",
       "</table>\n",
       "</div>"
      ],
      "text/plain": [
       "  Order ID                 Product  Quantity Ordered  Price Each  \\\n",
       "0   194095        Wired Headphones                 1       11.99   \n",
       "1   194096   AA Batteries (4-pack)                 1        3.84   \n",
       "2   194097        27in FHD Monitor                 1      149.99   \n",
       "3   194098        Wired Headphones                 1       11.99   \n",
       "4   194099  AAA Batteries (4-pack)                 2        2.99   \n",
       "\n",
       "       Order Date                         Purchase Address  Month  \n",
       "0  05/16/19 17:14      669 2nd St, New York City, NY 10001      5  \n",
       "1  05/19/19 14:43          844 Walnut St, Dallas, TX 75001      5  \n",
       "2  05/24/19 11:36  164 Madison St, New York City, NY 10001      5  \n",
       "3  05/02/19 20:40          622 Meadow St, Dallas, TX 75001      5  \n",
       "4  05/11/19 22:55          17 Church St, Seattle, WA 98101      5  "
      ]
     },
     "execution_count": 46,
     "metadata": {},
     "output_type": "execute_result"
    }
   ],
   "source": [
    "all_data['Quantity Ordered'] = pd.to_numeric(all_data[\"Quantity Ordered\"])\n",
    "all_data[\"Price Each\"] = pd.to_numeric(all_data[\"Price Each\"])\n",
    "all_data.head()"
   ]
  },
  {
   "cell_type": "code",
   "execution_count": 47,
   "metadata": {},
   "outputs": [
    {
     "data": {
      "text/html": [
       "<div>\n",
       "<style scoped>\n",
       "    .dataframe tbody tr th:only-of-type {\n",
       "        vertical-align: middle;\n",
       "    }\n",
       "\n",
       "    .dataframe tbody tr th {\n",
       "        vertical-align: top;\n",
       "    }\n",
       "\n",
       "    .dataframe thead th {\n",
       "        text-align: right;\n",
       "    }\n",
       "</style>\n",
       "<table border=\"1\" class=\"dataframe\">\n",
       "  <thead>\n",
       "    <tr style=\"text-align: right;\">\n",
       "      <th></th>\n",
       "      <th>Order ID</th>\n",
       "      <th>Product</th>\n",
       "      <th>Quantity Ordered</th>\n",
       "      <th>Price Each</th>\n",
       "      <th>Order Date</th>\n",
       "      <th>Purchase Address</th>\n",
       "      <th>Month</th>\n",
       "      <th>Sales</th>\n",
       "    </tr>\n",
       "  </thead>\n",
       "  <tbody>\n",
       "    <tr>\n",
       "      <th>0</th>\n",
       "      <td>194095</td>\n",
       "      <td>Wired Headphones</td>\n",
       "      <td>1</td>\n",
       "      <td>11.99</td>\n",
       "      <td>05/16/19 17:14</td>\n",
       "      <td>669 2nd St, New York City, NY 10001</td>\n",
       "      <td>5</td>\n",
       "      <td>11.99</td>\n",
       "    </tr>\n",
       "    <tr>\n",
       "      <th>1</th>\n",
       "      <td>194096</td>\n",
       "      <td>AA Batteries (4-pack)</td>\n",
       "      <td>1</td>\n",
       "      <td>3.84</td>\n",
       "      <td>05/19/19 14:43</td>\n",
       "      <td>844 Walnut St, Dallas, TX 75001</td>\n",
       "      <td>5</td>\n",
       "      <td>3.84</td>\n",
       "    </tr>\n",
       "    <tr>\n",
       "      <th>2</th>\n",
       "      <td>194097</td>\n",
       "      <td>27in FHD Monitor</td>\n",
       "      <td>1</td>\n",
       "      <td>149.99</td>\n",
       "      <td>05/24/19 11:36</td>\n",
       "      <td>164 Madison St, New York City, NY 10001</td>\n",
       "      <td>5</td>\n",
       "      <td>149.99</td>\n",
       "    </tr>\n",
       "    <tr>\n",
       "      <th>3</th>\n",
       "      <td>194098</td>\n",
       "      <td>Wired Headphones</td>\n",
       "      <td>1</td>\n",
       "      <td>11.99</td>\n",
       "      <td>05/02/19 20:40</td>\n",
       "      <td>622 Meadow St, Dallas, TX 75001</td>\n",
       "      <td>5</td>\n",
       "      <td>11.99</td>\n",
       "    </tr>\n",
       "    <tr>\n",
       "      <th>4</th>\n",
       "      <td>194099</td>\n",
       "      <td>AAA Batteries (4-pack)</td>\n",
       "      <td>2</td>\n",
       "      <td>2.99</td>\n",
       "      <td>05/11/19 22:55</td>\n",
       "      <td>17 Church St, Seattle, WA 98101</td>\n",
       "      <td>5</td>\n",
       "      <td>5.98</td>\n",
       "    </tr>\n",
       "  </tbody>\n",
       "</table>\n",
       "</div>"
      ],
      "text/plain": [
       "  Order ID                 Product  Quantity Ordered  Price Each  \\\n",
       "0   194095        Wired Headphones                 1       11.99   \n",
       "1   194096   AA Batteries (4-pack)                 1        3.84   \n",
       "2   194097        27in FHD Monitor                 1      149.99   \n",
       "3   194098        Wired Headphones                 1       11.99   \n",
       "4   194099  AAA Batteries (4-pack)                 2        2.99   \n",
       "\n",
       "       Order Date                         Purchase Address  Month   Sales  \n",
       "0  05/16/19 17:14      669 2nd St, New York City, NY 10001      5   11.99  \n",
       "1  05/19/19 14:43          844 Walnut St, Dallas, TX 75001      5    3.84  \n",
       "2  05/24/19 11:36  164 Madison St, New York City, NY 10001      5  149.99  \n",
       "3  05/02/19 20:40          622 Meadow St, Dallas, TX 75001      5   11.99  \n",
       "4  05/11/19 22:55          17 Church St, Seattle, WA 98101      5    5.98  "
      ]
     },
     "execution_count": 47,
     "metadata": {},
     "output_type": "execute_result"
    }
   ],
   "source": [
    "all_data[\"Sales\"] = all_data[\"Quantity Ordered\"] *  all_data[\"Price Each\"]\n",
    "all_data.head()"
   ]
  },
  {
   "cell_type": "markdown",
   "metadata": {},
   "source": [
    "Best Month for Sales "
   ]
  },
  {
   "cell_type": "code",
   "execution_count": 48,
   "metadata": {},
   "outputs": [
    {
     "data": {
      "text/plain": [
       "Month\n",
       "1     1822256.73\n",
       "2     2202022.42\n",
       "3     2807100.38\n",
       "4     3390670.24\n",
       "5     3152606.75\n",
       "6     2577802.26\n",
       "7     2647775.76\n",
       "8     2244467.88\n",
       "9     2097560.13\n",
       "10    3736726.88\n",
       "11    3199603.20\n",
       "12    4613443.34\n",
       "Name: Sales, dtype: float64"
      ]
     },
     "execution_count": 48,
     "metadata": {},
     "output_type": "execute_result"
    }
   ],
   "source": [
    "results = all_data.groupby('Month').sum()['Sales']\n",
    "results"
   ]
  },
  {
   "cell_type": "markdown",
   "metadata": {},
   "source": [
    "#### Data Visualization using a bar graph"
   ]
  },
  {
   "cell_type": "code",
   "execution_count": 49,
   "metadata": {},
   "outputs": [
    {
     "data": {
      "image/png": "[encoded data removed]",
      "text/plain": [
       "<Figure size 640x480 with 1 Axes>"
      ]
     },
     "metadata": {},
     "output_type": "display_data"
    }
   ],
   "source": [
    "import matplotlib.pyplot as plt\n",
    "\n",
    "months = range(1,13)\n",
    "plt.bar(months, results)\n",
    "plt.xticks(months)\n",
    "plt.ylabel(\"Sales in US Dollars\")\n",
    "plt.xlabel('Month number')\n",
    "plt.show()"
   ]
  },
  {
   "cell_type": "markdown",
   "metadata": {},
   "source": [
    " **Question 2 :  What US city had the highest number of sales**"
   ]
  },
  {
   "cell_type": "markdown",
   "metadata": {},
   "source": [
    "#### Task 1: Add a city column"
   ]
  },
  {
   "cell_type": "code",
   "execution_count": 50,
   "metadata": {},
   "outputs": [
    {
     "data": {
      "text/html": [
       "<div>\n",
       "<style scoped>\n",
       "    .dataframe tbody tr th:only-of-type {\n",
       "        vertical-align: middle;\n",
       "    }\n",
       "\n",
       "    .dataframe tbody tr th {\n",
       "        vertical-align: top;\n",
       "    }\n",
       "\n",
       "    .dataframe thead th {\n",
       "        text-align: right;\n",
       "    }\n",
       "</style>\n",
       "<table border=\"1\" class=\"dataframe\">\n",
       "  <thead>\n",
       "    <tr style=\"text-align: right;\">\n",
       "      <th></th>\n",
       "      <th>Order ID</th>\n",
       "      <th>Product</th>\n",
       "      <th>Quantity Ordered</th>\n",
       "      <th>Price Each</th>\n",
       "      <th>Order Date</th>\n",
       "      <th>Purchase Address</th>\n",
       "      <th>Month</th>\n",
       "      <th>Sales</th>\n",
       "      <th>City</th>\n",
       "    </tr>\n",
       "  </thead>\n",
       "  <tbody>\n",
       "    <tr>\n",
       "      <th>0</th>\n",
       "      <td>194095</td>\n",
       "      <td>Wired Headphones</td>\n",
       "      <td>1</td>\n",
       "      <td>11.99</td>\n",
       "      <td>05/16/19 17:14</td>\n",
       "      <td>669 2nd St, New York City, NY 10001</td>\n",
       "      <td>5</td>\n",
       "      <td>11.99</td>\n",
       "      <td>New York City (NY)</td>\n",
       "    </tr>\n",
       "    <tr>\n",
       "      <th>1</th>\n",
       "      <td>194096</td>\n",
       "      <td>AA Batteries (4-pack)</td>\n",
       "      <td>1</td>\n",
       "      <td>3.84</td>\n",
       "      <td>05/19/19 14:43</td>\n",
       "      <td>844 Walnut St, Dallas, TX 75001</td>\n",
       "      <td>5</td>\n",
       "      <td>3.84</td>\n",
       "      <td>Dallas (TX)</td>\n",
       "    </tr>\n",
       "    <tr>\n",
       "      <th>2</th>\n",
       "      <td>194097</td>\n",
       "      <td>27in FHD Monitor</td>\n",
       "      <td>1</td>\n",
       "      <td>149.99</td>\n",
       "      <td>05/24/19 11:36</td>\n",
       "      <td>164 Madison St, New York City, NY 10001</td>\n",
       "      <td>5</td>\n",
       "      <td>149.99</td>\n",
       "      <td>New York City (NY)</td>\n",
       "    </tr>\n",
       "    <tr>\n",
       "      <th>3</th>\n",
       "      <td>194098</td>\n",
       "      <td>Wired Headphones</td>\n",
       "      <td>1</td>\n",
       "      <td>11.99</td>\n",
       "      <td>05/02/19 20:40</td>\n",
       "      <td>622 Meadow St, Dallas, TX 75001</td>\n",
       "      <td>5</td>\n",
       "      <td>11.99</td>\n",
       "      <td>Dallas (TX)</td>\n",
       "    </tr>\n",
       "    <tr>\n",
       "      <th>4</th>\n",
       "      <td>194099</td>\n",
       "      <td>AAA Batteries (4-pack)</td>\n",
       "      <td>2</td>\n",
       "      <td>2.99</td>\n",
       "      <td>05/11/19 22:55</td>\n",
       "      <td>17 Church St, Seattle, WA 98101</td>\n",
       "      <td>5</td>\n",
       "      <td>5.98</td>\n",
       "      <td>Seattle (WA)</td>\n",
       "    </tr>\n",
       "  </tbody>\n",
       "</table>\n",
       "</div>"
      ],
      "text/plain": [
       "  Order ID                 Product  Quantity Ordered  Price Each  \\\n",
       "0   194095        Wired Headphones                 1       11.99   \n",
       "1   194096   AA Batteries (4-pack)                 1        3.84   \n",
       "2   194097        27in FHD Monitor                 1      149.99   \n",
       "3   194098        Wired Headphones                 1       11.99   \n",
       "4   194099  AAA Batteries (4-pack)                 2        2.99   \n",
       "\n",
       "       Order Date                         Purchase Address  Month   Sales  \\\n",
       "0  05/16/19 17:14      669 2nd St, New York City, NY 10001      5   11.99   \n",
       "1  05/19/19 14:43          844 Walnut St, Dallas, TX 75001      5    3.84   \n",
       "2  05/24/19 11:36  164 Madison St, New York City, NY 10001      5  149.99   \n",
       "3  05/02/19 20:40          622 Meadow St, Dallas, TX 75001      5   11.99   \n",
       "4  05/11/19 22:55          17 Church St, Seattle, WA 98101      5    5.98   \n",
       "\n",
       "                  City  \n",
       "0   New York City (NY)  \n",
       "1          Dallas (TX)  \n",
       "2   New York City (NY)  \n",
       "3          Dallas (TX)  \n",
       "4         Seattle (WA)  "
      ]
     },
     "execution_count": 50,
     "metadata": {},
     "output_type": "execute_result"
    }
   ],
   "source": [
    "#Let's use apply()\n",
    "def get_state(address):\n",
    "    return address.split(',')[2].split(\" \")[1]\n",
    "\n",
    "all_data['City'] = all_data['Purchase Address'].apply(lambda x:f\"{x.split(',')[1]} ({get_state(x)})\")\n",
    "all_data.head()"
   ]
  },
  {
   "cell_type": "markdown",
   "metadata": {},
   "source": [
    "**Task 2 : Group by City**"
   ]
  },
  {
   "cell_type": "code",
   "execution_count": 75,
   "metadata": {},
   "outputs": [
    {
     "data": {
      "text/plain": [
       "City\n",
       " Atlanta (GA)          2795498.58\n",
       " Austin (TX)           1819581.75\n",
       " Boston (MA)           3661642.01\n",
       " Dallas (TX)           2767975.40\n",
       " Los Angeles (CA)      5452570.80\n",
       " New York City (NY)    4664317.43\n",
       " Portland (ME)          449758.27\n",
       " Portland (OR)         1870732.34\n",
       " San Francisco (CA)    8262203.91\n",
       " Seattle (WA)          2747755.48\n",
       "Name: Sales, dtype: float64"
      ]
     },
     "execution_count": 75,
     "metadata": {},
     "output_type": "execute_result"
    }
   ],
   "source": [
    "results = all_data.groupby('City').sum()['Sales']\n",
    "results"
   ]
  },
  {
   "cell_type": "markdown",
   "metadata": {},
   "source": [
    " Plotting a bar graph for City Sales"
   ]
  },
  {
   "cell_type": "code",
   "execution_count": null,
   "metadata": {},
   "outputs": [
    {
     "data": {
      "image/png": "[encoded data removed]",
      "text/plain": [
       "<Figure size 640x480 with 1 Axes>"
      ]
     },
     "metadata": {},
     "output_type": "display_data"
    }
   ],
   "source": [
    "import matplotlib.pyplot as plt\n",
    "\n",
    "cities = [city for city,df in all_data.groupby('City')]\n",
    "\n",
    "plt.bar(cities, results)\n",
    "plt.xticks(cities, rotation = \"vertical\",size=8 )\n",
    "plt.ylabel(\"Sales in US Dollars\")\n",
    "plt.xlabel('Cities in the US')\n",
    "plt.show()"
   ]
  },
  {
   "cell_type": "markdown",
   "metadata": {},
   "source": [
    "**Question 3: What time should we display advertisements to maximise likelihood of customer's buying product ?**"
   ]
  },
  {
   "cell_type": "markdown",
   "metadata": {},
   "source": [
    "Change the Order Date to hours and minutes"
   ]
  },
  {
   "cell_type": "code",
   "execution_count": null,
   "metadata": {},
   "outputs": [
    {
     "data": {
      "text/html": [
       "<div>\n",
       "<style scoped>\n",
       "    .dataframe tbody tr th:only-of-type {\n",
       "        vertical-align: middle;\n",
       "    }\n",
       "\n",
       "    .dataframe tbody tr th {\n",
       "        vertical-align: top;\n",
       "    }\n",
       "\n",
       "    .dataframe thead th {\n",
       "        text-align: right;\n",
       "    }\n",
       "</style>\n",
       "<table border=\"1\" class=\"dataframe\">\n",
       "  <thead>\n",
       "    <tr style=\"text-align: right;\">\n",
       "      <th></th>\n",
       "      <th>Order ID</th>\n",
       "      <th>Product</th>\n",
       "      <th>Quantity Ordered</th>\n",
       "      <th>Price Each</th>\n",
       "      <th>Order Date</th>\n",
       "      <th>Purchase Address</th>\n",
       "      <th>Month</th>\n",
       "      <th>Sales</th>\n",
       "      <th>City</th>\n",
       "      <th>hour</th>\n",
       "      <th>Minute</th>\n",
       "      <th>Count</th>\n",
       "    </tr>\n",
       "  </thead>\n",
       "  <tbody>\n",
       "    <tr>\n",
       "      <th>0</th>\n",
       "      <td>194095</td>\n",
       "      <td>Wired Headphones</td>\n",
       "      <td>1</td>\n",
       "      <td>11.99</td>\n",
       "      <td>2019-05-16 17:14:00</td>\n",
       "      <td>669 2nd St, New York City, NY 10001</td>\n",
       "      <td>5</td>\n",
       "      <td>11.99</td>\n",
       "      <td>New York City (NY)</td>\n",
       "      <td>17</td>\n",
       "      <td>14</td>\n",
       "      <td>1</td>\n",
       "    </tr>\n",
       "    <tr>\n",
       "      <th>1</th>\n",
       "      <td>194096</td>\n",
       "      <td>AA Batteries (4-pack)</td>\n",
       "      <td>1</td>\n",
       "      <td>3.84</td>\n",
       "      <td>2019-05-19 14:43:00</td>\n",
       "      <td>844 Walnut St, Dallas, TX 75001</td>\n",
       "      <td>5</td>\n",
       "      <td>3.84</td>\n",
       "      <td>Dallas (TX)</td>\n",
       "      <td>14</td>\n",
       "      <td>43</td>\n",
       "      <td>1</td>\n",
       "    </tr>\n",
       "    <tr>\n",
       "      <th>2</th>\n",
       "      <td>194097</td>\n",
       "      <td>27in FHD Monitor</td>\n",
       "      <td>1</td>\n",
       "      <td>149.99</td>\n",
       "      <td>2019-05-24 11:36:00</td>\n",
       "      <td>164 Madison St, New York City, NY 10001</td>\n",
       "      <td>5</td>\n",
       "      <td>149.99</td>\n",
       "      <td>New York City (NY)</td>\n",
       "      <td>11</td>\n",
       "      <td>36</td>\n",
       "      <td>1</td>\n",
       "    </tr>\n",
       "    <tr>\n",
       "      <th>3</th>\n",
       "      <td>194098</td>\n",
       "      <td>Wired Headphones</td>\n",
       "      <td>1</td>\n",
       "      <td>11.99</td>\n",
       "      <td>2019-05-02 20:40:00</td>\n",
       "      <td>622 Meadow St, Dallas, TX 75001</td>\n",
       "      <td>5</td>\n",
       "      <td>11.99</td>\n",
       "      <td>Dallas (TX)</td>\n",
       "      <td>20</td>\n",
       "      <td>40</td>\n",
       "      <td>1</td>\n",
       "    </tr>\n",
       "    <tr>\n",
       "      <th>4</th>\n",
       "      <td>194099</td>\n",
       "      <td>AAA Batteries (4-pack)</td>\n",
       "      <td>2</td>\n",
       "      <td>2.99</td>\n",
       "      <td>2019-05-11 22:55:00</td>\n",
       "      <td>17 Church St, Seattle, WA 98101</td>\n",
       "      <td>5</td>\n",
       "      <td>5.98</td>\n",
       "      <td>Seattle (WA)</td>\n",
       "      <td>22</td>\n",
       "      <td>55</td>\n",
       "      <td>1</td>\n",
       "    </tr>\n",
       "  </tbody>\n",
       "</table>\n",
       "</div>"
      ],
      "text/plain": [
       "  Order ID                 Product  Quantity Ordered  Price Each  \\\n",
       "0   194095        Wired Headphones                 1       11.99   \n",
       "1   194096   AA Batteries (4-pack)                 1        3.84   \n",
       "2   194097        27in FHD Monitor                 1      149.99   \n",
       "3   194098        Wired Headphones                 1       11.99   \n",
       "4   194099  AAA Batteries (4-pack)                 2        2.99   \n",
       "\n",
       "           Order Date                         Purchase Address  Month   Sales  \\\n",
       "0 2019-05-16 17:14:00      669 2nd St, New York City, NY 10001      5   11.99   \n",
       "1 2019-05-19 14:43:00          844 Walnut St, Dallas, TX 75001      5    3.84   \n",
       "2 2019-05-24 11:36:00  164 Madison St, New York City, NY 10001      5  149.99   \n",
       "3 2019-05-02 20:40:00          622 Meadow St, Dallas, TX 75001      5   11.99   \n",
       "4 2019-05-11 22:55:00          17 Church St, Seattle, WA 98101      5    5.98   \n",
       "\n",
       "                  City  hour  Minute  Count  \n",
       "0   New York City (NY)    17      14      1  \n",
       "1          Dallas (TX)    14      43      1  \n",
       "2   New York City (NY)    11      36      1  \n",
       "3          Dallas (TX)    20      40      1  \n",
       "4         Seattle (WA)    22      55      1  "
      ]
     },
     "execution_count": 24,
     "metadata": {},
     "output_type": "execute_result"
    }
   ],
   "source": [
    "all_data[\"Order Date\"] = pd.to_datetime(all_data[\"Order Date\"])\n",
    "all_data[\"hour\"] = all_data[\"Order Date\"].dt.hour\n",
    "all_data[\"Minute\"] = all_data[\"Order Date\"].dt.minute\n",
    "all_data[\"Count\"] = 1\n",
    "all_data.head()\n"
   ]
  },
  {
   "cell_type": "code",
   "execution_count": null,
   "metadata": {},
   "outputs": [
    {
     "data": {
      "image/png": "[encoded data removed]",
      "text/plain": [
       "<Figure size 640x480 with 1 Axes>"
      ]
     },
     "metadata": {},
     "output_type": "display_data"
    }
   ],
   "source": [
    "hours = [hour for hour,df in all_data.groupby('hour')]\n",
    "plt.plot(hours,all_data.groupby(['hour']).count())\n",
    "plt.xticks(hours)\n",
    "plt.xlabel(\"Order Hours\")\n",
    "plt.ylabel(\"Number of Orders\")\n",
    "plt.grid()\n",
    "plt.show()\n",
    "#My recommendation is  \n"
   ]
  },
  {
   "cell_type": "markdown",
   "metadata": {},
   "source": [
    "Question 4: What products are most often sold together"
   ]
  },
  {
   "cell_type": "code",
   "execution_count": 76,
   "metadata": {},
   "outputs": [
    {
     "name": "stderr",
     "output_type": "stream",
     "text": [
      "/tmp/ipykernel_172375/3407403923.py:2: SettingWithCopyWarning: \n",
      "A value is trying to be set on a copy of a slice from a DataFrame.\n",
      "Try using .loc[row_indexer,col_indexer] = value instead\n",
      "\n",
      "See the caveats in the documentation: https://pandas.pydata.org/pandas-docs/stable/user_guide/indexing.html#returning-a-view-versus-a-copy\n",
      "  df[\"Grouped\"] = df.groupby('Order ID')[\"Product\"].transform(lambda x:','.join(x))\n"
     ]
    },
    {
     "data": {
      "text/html": [
       "<div>\n",
       "<style scoped>\n",
       "    .dataframe tbody tr th:only-of-type {\n",
       "        vertical-align: middle;\n",
       "    }\n",
       "\n",
       "    .dataframe tbody tr th {\n",
       "        vertical-align: top;\n",
       "    }\n",
       "\n",
       "    .dataframe thead th {\n",
       "        text-align: right;\n",
       "    }\n",
       "</style>\n",
       "<table border=\"1\" class=\"dataframe\">\n",
       "  <thead>\n",
       "    <tr style=\"text-align: right;\">\n",
       "      <th></th>\n",
       "      <th>Order ID</th>\n",
       "      <th>Grouped</th>\n",
       "    </tr>\n",
       "  </thead>\n",
       "  <tbody>\n",
       "    <tr>\n",
       "      <th>15</th>\n",
       "      <td>194110</td>\n",
       "      <td>Google Phone,Wired Headphones</td>\n",
       "    </tr>\n",
       "    <tr>\n",
       "      <th>77</th>\n",
       "      <td>194170</td>\n",
       "      <td>Google Phone,USB-C Charging Cable</td>\n",
       "    </tr>\n",
       "    <tr>\n",
       "      <th>82</th>\n",
       "      <td>194174</td>\n",
       "      <td>iPhone,Lightning Charging Cable,Wired Headphones</td>\n",
       "    </tr>\n",
       "    <tr>\n",
       "      <th>89</th>\n",
       "      <td>194179</td>\n",
       "      <td>Flatscreen TV,AAA Batteries (4-pack)</td>\n",
       "    </tr>\n",
       "    <tr>\n",
       "      <th>103</th>\n",
       "      <td>194192</td>\n",
       "      <td>Wired Headphones,Bose SoundSport Headphones</td>\n",
       "    </tr>\n",
       "  </tbody>\n",
       "</table>\n",
       "</div>"
      ],
      "text/plain": [
       "    Order ID                                           Grouped\n",
       "15    194110                     Google Phone,Wired Headphones\n",
       "77    194170                 Google Phone,USB-C Charging Cable\n",
       "82    194174  iPhone,Lightning Charging Cable,Wired Headphones\n",
       "89    194179              Flatscreen TV,AAA Batteries (4-pack)\n",
       "103   194192       Wired Headphones,Bose SoundSport Headphones"
      ]
     },
     "execution_count": 76,
     "metadata": {},
     "output_type": "execute_result"
    }
   ],
   "source": [
    "df = all_data[all_data[\"Order ID\"].duplicated(keep=False)]\n",
    "df[\"Grouped\"] = df.groupby('Order ID')[\"Product\"].transform(lambda x:','.join(x))\n",
    "df = df[[\"Order ID\",\"Grouped\"]].drop_duplicates()\n",
    "df.head()"
   ]
  },
  {
   "cell_type": "markdown",
   "metadata": {},
   "source": [
    "Counting items that are sold together"
   ]
  },
  {
   "cell_type": "code",
   "execution_count": null,
   "metadata": {},
   "outputs": [
    {
     "data": {
      "text/plain": [
       "[(('iPhone', 'Lightning Charging Cable'), 1005),\n",
       " (('Google Phone', 'USB-C Charging Cable'), 987),\n",
       " (('iPhone', 'Wired Headphones'), 447),\n",
       " (('Google Phone', 'Wired Headphones'), 414),\n",
       " (('Vareebadd Phone', 'USB-C Charging Cable'), 361),\n",
       " (('iPhone', 'Apple Airpods Headphones'), 360),\n",
       " (('Google Phone', 'Bose SoundSport Headphones'), 220),\n",
       " (('USB-C Charging Cable', 'Wired Headphones'), 160),\n",
       " (('Vareebadd Phone', 'Wired Headphones'), 143),\n",
       " (('Lightning Charging Cable', 'Wired Headphones'), 92),\n",
       " (('Lightning Charging Cable', 'Apple Airpods Headphones'), 81),\n",
       " (('Vareebadd Phone', 'Bose SoundSport Headphones'), 80),\n",
       " (('USB-C Charging Cable', 'Bose SoundSport Headphones'), 77),\n",
       " (('Apple Airpods Headphones', 'Wired Headphones'), 69),\n",
       " (('Lightning Charging Cable', 'USB-C Charging Cable'), 58),\n",
       " (('Lightning Charging Cable', 'AA Batteries (4-pack)'), 55),\n",
       " (('Lightning Charging Cable', 'Lightning Charging Cable'), 54),\n",
       " (('Bose SoundSport Headphones', 'Wired Headphones'), 53),\n",
       " (('AA Batteries (4-pack)', 'Lightning Charging Cable'), 51),\n",
       " (('AAA Batteries (4-pack)', 'USB-C Charging Cable'), 50)]"
      ]
     },
     "execution_count": 38,
     "metadata": {},
     "output_type": "execute_result"
    }
   ],
   "source": [
    "from itertools import combinations\n",
    "from collections import Counter\n",
    "\n",
    "count = Counter()\n",
    "for row in df[\"Grouped\"]:\n",
    "    row_list = row.split(',')\n",
    "    count.update(Counter(combinations(row_list,2)))\n",
    "count.most_common(20)"
   ]
  },
  {
   "cell_type": "markdown",
   "metadata": {},
   "source": [
    "**What product sold the most ?  Why do you think it sold the most ?**\n",
    " "
   ]
  },
  {
   "cell_type": "code",
   "execution_count": 52,
   "metadata": {},
   "outputs": [
    {
     "data": {
      "text/html": [
       "<div>\n",
       "<style scoped>\n",
       "    .dataframe tbody tr th:only-of-type {\n",
       "        vertical-align: middle;\n",
       "    }\n",
       "\n",
       "    .dataframe tbody tr th {\n",
       "        vertical-align: top;\n",
       "    }\n",
       "\n",
       "    .dataframe thead th {\n",
       "        text-align: right;\n",
       "    }\n",
       "</style>\n",
       "<table border=\"1\" class=\"dataframe\">\n",
       "  <thead>\n",
       "    <tr style=\"text-align: right;\">\n",
       "      <th></th>\n",
       "      <th>Order ID</th>\n",
       "      <th>Product</th>\n",
       "      <th>Quantity Ordered</th>\n",
       "      <th>Price Each</th>\n",
       "      <th>Order Date</th>\n",
       "      <th>Purchase Address</th>\n",
       "      <th>Month</th>\n",
       "      <th>Sales</th>\n",
       "      <th>City</th>\n",
       "    </tr>\n",
       "  </thead>\n",
       "  <tbody>\n",
       "    <tr>\n",
       "      <th>0</th>\n",
       "      <td>194095</td>\n",
       "      <td>Wired Headphones</td>\n",
       "      <td>1</td>\n",
       "      <td>11.99</td>\n",
       "      <td>05/16/19 17:14</td>\n",
       "      <td>669 2nd St, New York City, NY 10001</td>\n",
       "      <td>5</td>\n",
       "      <td>11.99</td>\n",
       "      <td>New York City (NY)</td>\n",
       "    </tr>\n",
       "    <tr>\n",
       "      <th>1</th>\n",
       "      <td>194096</td>\n",
       "      <td>AA Batteries (4-pack)</td>\n",
       "      <td>1</td>\n",
       "      <td>3.84</td>\n",
       "      <td>05/19/19 14:43</td>\n",
       "      <td>844 Walnut St, Dallas, TX 75001</td>\n",
       "      <td>5</td>\n",
       "      <td>3.84</td>\n",
       "      <td>Dallas (TX)</td>\n",
       "    </tr>\n",
       "    <tr>\n",
       "      <th>2</th>\n",
       "      <td>194097</td>\n",
       "      <td>27in FHD Monitor</td>\n",
       "      <td>1</td>\n",
       "      <td>149.99</td>\n",
       "      <td>05/24/19 11:36</td>\n",
       "      <td>164 Madison St, New York City, NY 10001</td>\n",
       "      <td>5</td>\n",
       "      <td>149.99</td>\n",
       "      <td>New York City (NY)</td>\n",
       "    </tr>\n",
       "    <tr>\n",
       "      <th>3</th>\n",
       "      <td>194098</td>\n",
       "      <td>Wired Headphones</td>\n",
       "      <td>1</td>\n",
       "      <td>11.99</td>\n",
       "      <td>05/02/19 20:40</td>\n",
       "      <td>622 Meadow St, Dallas, TX 75001</td>\n",
       "      <td>5</td>\n",
       "      <td>11.99</td>\n",
       "      <td>Dallas (TX)</td>\n",
       "    </tr>\n",
       "    <tr>\n",
       "      <th>4</th>\n",
       "      <td>194099</td>\n",
       "      <td>AAA Batteries (4-pack)</td>\n",
       "      <td>2</td>\n",
       "      <td>2.99</td>\n",
       "      <td>05/11/19 22:55</td>\n",
       "      <td>17 Church St, Seattle, WA 98101</td>\n",
       "      <td>5</td>\n",
       "      <td>5.98</td>\n",
       "      <td>Seattle (WA)</td>\n",
       "    </tr>\n",
       "  </tbody>\n",
       "</table>\n",
       "</div>"
      ],
      "text/plain": [
       "  Order ID                 Product  Quantity Ordered  Price Each  \\\n",
       "0   194095        Wired Headphones                 1       11.99   \n",
       "1   194096   AA Batteries (4-pack)                 1        3.84   \n",
       "2   194097        27in FHD Monitor                 1      149.99   \n",
       "3   194098        Wired Headphones                 1       11.99   \n",
       "4   194099  AAA Batteries (4-pack)                 2        2.99   \n",
       "\n",
       "       Order Date                         Purchase Address  Month   Sales  \\\n",
       "0  05/16/19 17:14      669 2nd St, New York City, NY 10001      5   11.99   \n",
       "1  05/19/19 14:43          844 Walnut St, Dallas, TX 75001      5    3.84   \n",
       "2  05/24/19 11:36  164 Madison St, New York City, NY 10001      5  149.99   \n",
       "3  05/02/19 20:40          622 Meadow St, Dallas, TX 75001      5   11.99   \n",
       "4  05/11/19 22:55          17 Church St, Seattle, WA 98101      5    5.98   \n",
       "\n",
       "                  City  \n",
       "0   New York City (NY)  \n",
       "1          Dallas (TX)  \n",
       "2   New York City (NY)  \n",
       "3          Dallas (TX)  \n",
       "4         Seattle (WA)  "
      ]
     },
     "execution_count": 52,
     "metadata": {},
     "output_type": "execute_result"
    }
   ],
   "source": [
    "all_data.head()"
   ]
  },
  {
   "cell_type": "code",
   "execution_count": 55,
   "metadata": {},
   "outputs": [
    {
     "data": {
      "image/png": "[encoded data removed]",
      "text/plain": [
       "<Figure size 640x480 with 1 Axes>"
      ]
     },
     "metadata": {},
     "output_type": "display_data"
    }
   ],
   "source": [
    "product_group = all_data.groupby('Product')\n",
    "quantity_ordered = product_group.sum()[\"Quantity Ordered\"]\n",
    "products = [product for product,df in product_group]\n",
    "plt.bar(products,quantity_ordered)\n",
    "plt.xticks(products,rotation=\"vertical\",size=8)\n",
    "plt.xlabel('Product')\n",
    "plt.ylabel('quantity_ordered')\n",
    "plt.show()\n",
    "\n",
    " "
   ]
  },
  {
   "cell_type": "code",
   "execution_count": 74,
   "metadata": {},
   "outputs": [
    {
     "name": "stderr",
     "output_type": "stream",
     "text": [
      "/tmp/ipykernel_172375/187488013.py:9: UserWarning: FixedFormatter should only be used together with FixedLocator\n",
      "  ax1.set_xticklabels(products,rotation='vertical',size=8)\n"
     ]
    },
    {
     "data": {
      "image/png": "[encoded data removed]",
      "text/plain": [
       "<Figure size 640x480 with 2 Axes>"
      ]
     },
     "metadata": {},
     "output_type": "display_data"
    }
   ],
   "source": [
    "prices = product_group.mean([\"Price Each\"])\n",
    "fig,ax1 = plt.subplots()\n",
    "ax2 = ax1.twinx()\n",
    "ax1.bar(products,quantity_ordered,color = 'g')\n",
    "ax2.plot(products,prices,'b-')\n",
    "ax1.set_xlabel('Product Name')\n",
    "ax1.set_ylabel('Quantity Ordered',color='g')\n",
    "ax2.set_ylabel('Price ($)', color='b')\n",
    "ax1.set_xticklabels(products,rotation='vertical',size=8)\n",
    "\n",
    "plt.show()"
   ]
  }
 ],
 "metadata": {
  "kernelspec": {
   "display_name": "Python 3",
   "language": "python",
   "name": "python3"
  },
  "language_info": {
   "codemirror_mode": {
    "name": "ipython",
    "version": 3
   },
   "file_extension": ".py",
   "mimetype": "text/x-python",
   "name": "python",
   "nbconvert_exporter": "python",
   "pygments_lexer": "ipython3",
   "version": "3.10.12"
  },
  "orig_nbformat": 4
 },
 "nbformat": 4,
 "nbformat_minor": 2
}
